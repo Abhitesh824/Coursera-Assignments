{
 "cells": [
  {
   "cell_type": "markdown",
   "id": "aa3c9d6d-24b7-4ab9-9706-063a1c340944",
   "metadata": {},
   "source": [
    "# Data Science Tools and Ecosystem"
   ]
  },
  {
   "cell_type": "markdown",
   "id": "fafac141-1bc3-4ea8-aedd-bb8316e00373",
   "metadata": {},
   "source": [
    "## Introduction\n",
    "In this notebook, Data Science Tools and Ecosystem are summarized."
   ]
  },
  {
   "cell_type": "markdown",
   "id": "7a98b635-e52d-4d5c-848d-72b90de0b81d",
   "metadata": {},
   "source": [
    "**Objectives:**\n",
    "1. List Data Science Languages\n",
    "2. List Data Science Libraries\n",
    "3. List Data Science Tools\n",
    "4. Examples of Arithematic Expressions\n",
    "5. Creating Several Markdowns"
   ]
  },
  {
   "cell_type": "markdown",
   "id": "1b721b6c-7d70-491a-b061-4b9ec6f40b1b",
   "metadata": {},
   "source": [
    "### Data Science Languages\n",
    "Some of the popular languages that Data Scientists use are:\n",
    "1. Python\n",
    "2. R\n",
    "3. Java"
   ]
  },
  {
   "cell_type": "markdown",
   "id": "352d253d-15d8-44c4-b423-ce4808e26a2f",
   "metadata": {},
   "source": [
    "### Data Science Libraries\n",
    "Some of the commonly used libraries used by Data Scientists include:\n",
    "1. Pandas\n",
    "2. TensorFlow\n",
    "3. Numpy"
   ]
  },
  {
   "cell_type": "markdown",
   "id": "811dce7c-c139-4fa6-a494-c01e322e0872",
   "metadata": {},
   "source": [
    "### Data Science Tools\n",
    "| Data Science Tools |\n",
    "| ------------------ |\n",
    "| Spyder |\n",
    "| Pycharm |\n",
    "| Microsoft Visual Studio Code |"
   ]
  },
  {
   "cell_type": "markdown",
   "id": "57bb129d-8999-4c78-89f8-6e63f2f7e16d",
   "metadata": {},
   "source": [
    "## Arithematic Expressions\n",
    "### Below are a few examples of evaluating arithmetic expressions in Python"
   ]
  },
  {
   "cell_type": "code",
   "execution_count": 3,
   "id": "c0e5c72a-cea6-4144-abea-914d6252d67e",
   "metadata": {},
   "outputs": [
    {
     "data": {
      "text/plain": [
       "17"
      ]
     },
     "execution_count": 3,
     "metadata": {},
     "output_type": "execute_result"
    }
   ],
   "source": [
    "# This a simple arithmetic expression to mutiply then add integers\n",
    "(3*4)+5"
   ]
  },
  {
   "cell_type": "code",
   "execution_count": 4,
   "id": "db01726e-252f-49d9-9228-96f36c1a5ea4",
   "metadata": {},
   "outputs": [
    {
     "data": {
      "text/plain": [
       "3.3333333333333335"
      ]
     },
     "execution_count": 4,
     "metadata": {},
     "output_type": "execute_result"
    }
   ],
   "source": [
    "# this will convert 200 minutes to hours by diving by 60\n",
    "hours = 200/60\n",
    "hours"
   ]
  },
  {
   "cell_type": "markdown",
   "id": "d78b255b-a6a8-4dd6-a9dd-957cfa2c23fd",
   "metadata": {},
   "source": [
    "## Author\n",
    "Abhitesh Singh"
   ]
  },
  {
   "cell_type": "code",
   "execution_count": null,
   "id": "5b2de51d-4795-4c3c-a41f-532b7088ea2b",
   "metadata": {},
   "outputs": [],
   "source": []
  }
 ],
 "metadata": {
  "kernelspec": {
   "display_name": "Python 3 (ipykernel)",
   "language": "python",
   "name": "python3"
  },
  "language_info": {
   "codemirror_mode": {
    "name": "ipython",
    "version": 3
   },
   "file_extension": ".py",
   "mimetype": "text/x-python",
   "name": "python",
   "nbconvert_exporter": "python",
   "pygments_lexer": "ipython3",
   "version": "3.11.7"
  }
 },
 "nbformat": 4,
 "nbformat_minor": 5
}
